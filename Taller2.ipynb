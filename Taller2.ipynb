{
  "nbformat": 4,
  "nbformat_minor": 0,
  "metadata": {
    "colab": {
      "provenance": [],
      "include_colab_link": true
    },
    "kernelspec": {
      "name": "python3",
      "display_name": "Python 3"
    },
    "language_info": {
      "name": "python"
    }
  },
  "cells": [
    {
      "cell_type": "markdown",
      "metadata": {
        "id": "view-in-github",
        "colab_type": "text"
      },
      "source": [
        "<a href=\"https://colab.research.google.com/github/Puentes02/Mat-Aplicadas/blob/main/Taller2.ipynb\" target=\"_parent\"><img src=\"https://colab.research.google.com/assets/colab-badge.svg\" alt=\"Open In Colab\"/></a>"
      ]
    },
    {
      "cell_type": "markdown",
      "source": [
        "##**Taller #2**"
      ],
      "metadata": {
        "id": "Tt48IEpOHr7v"
      }
    },
    {
      "cell_type": "markdown",
      "source": [
        "###**Nombres:**\n",
        "###**Emanuel Puentes**\n",
        "###**Jose Alejandro Morera**\n",
        "###**Juan Esteban Martinez**"
      ],
      "metadata": {
        "id": "g0SJmFhSYKRu"
      }
    },
    {
      "cell_type": "markdown",
      "source": [
        "####**Punto 1**"
      ],
      "metadata": {
        "id": "cK9j4iJtleWb"
      }
    },
    {
      "cell_type": "code",
      "source": [
        "def es_primo(num):\n",
        "    if num < 2:\n",
        "        return False\n",
        "    for i in range(2, int(num ** 0.5) + 1):\n",
        "        if num % i == 0:\n",
        "            return False\n",
        "    return True\n",
        "\n",
        "def filtrar_primos(lista):\n",
        "    return [num for num in lista if es_primo(num)]\n",
        "\n",
        "numeros = [10, 3, 5, 8, 13, 17, 22, 29, 33]\n",
        "\n",
        "primos = filtrar_primos(numeros)\n",
        "\n",
        "print(\"Números primos encontrados:\", primos)"
      ],
      "metadata": {
        "id": "be340btZlf5T",
        "colab": {
          "base_uri": "https://localhost:8080/"
        },
        "outputId": "e716099a-492f-4b4f-b76e-99d97054563b"
      },
      "execution_count": 12,
      "outputs": [
        {
          "output_type": "stream",
          "name": "stdout",
          "text": [
            "Números primos encontrados: [3, 5, 13, 17, 29]\n"
          ]
        }
      ]
    },
    {
      "cell_type": "markdown",
      "source": [
        "####**Punto 2**"
      ],
      "metadata": {
        "id": "uTBzak2tlgNw"
      }
    },
    {
      "cell_type": "code",
      "source": [
        "def elementos_comunes(lista1, lista2):\n",
        "    return list(set(lista1) & set(lista2))\n",
        "\n",
        "lista1 = [1, 2, 3, 4, 5, 6, 7]\n",
        "lista2 = [5, 6, 7, 8, 9, 10]\n",
        "\n",
        "comunes = elementos_comunes(lista1, lista2)\n",
        "\n",
        "\n",
        "print(\"Elementos comunes entre ambas listas:\", comunes)"
      ],
      "metadata": {
        "id": "oCdSAOpYlh_s",
        "colab": {
          "base_uri": "https://localhost:8080/"
        },
        "outputId": "b1aec279-8f15-4b59-9843-037f6a4322a6"
      },
      "execution_count": 13,
      "outputs": [
        {
          "output_type": "stream",
          "name": "stdout",
          "text": [
            "Elementos comunes entre ambas listas: [5, 6, 7]\n"
          ]
        }
      ]
    },
    {
      "cell_type": "markdown",
      "source": [
        "####**Punto 3**"
      ],
      "metadata": {
        "id": "fhnExqT4liWe"
      }
    },
    {
      "cell_type": "code",
      "source": [
        "import math\n",
        "\n",
        "def lista_a_matriz(lista):\n",
        "    n = len(lista)\n",
        "    raiz = int(math.sqrt(n))\n",
        "\n",
        "    if raiz * raiz != n:\n",
        "        return \"Error: La cantidad de elementos no permite formar una matriz cuadrada.\"\n",
        "\n",
        "    matriz = [lista[i * raiz:(i + 1) * raiz] for i in range(raiz)]\n",
        "\n",
        "    return matriz\n",
        "\n",
        "numeros = [1, 2, 3, 4, 5, 6, 7, 8, 9]\n",
        "\n",
        "resultado = lista_a_matriz(numeros)\n",
        "\n",
        "print(resultado)"
      ],
      "metadata": {
        "id": "XxB6lP_rlkx9",
        "colab": {
          "base_uri": "https://localhost:8080/"
        },
        "outputId": "8b0a0a53-7ad3-41e0-d747-c74983b787ee"
      },
      "execution_count": 14,
      "outputs": [
        {
          "output_type": "stream",
          "name": "stdout",
          "text": [
            "[[1, 2, 3], [4, 5, 6], [7, 8, 9]]\n"
          ]
        }
      ]
    },
    {
      "cell_type": "markdown",
      "source": [
        "####**Punto 4**"
      ],
      "metadata": {
        "id": "AhcVPw3HllOo"
      }
    },
    {
      "cell_type": "code",
      "source": [
        "from statistics import mean, median, multimode\n",
        "\n",
        "def calcular_estadisticas(lista):\n",
        "    media = mean(lista)\n",
        "    mediana = median(lista)\n",
        "    moda = multimode(lista)\n",
        "\n",
        "    return media, mediana, moda\n",
        "\n",
        "numeros = [4, 1, 2, 2, 3, 3, 4, 4, 5, 5, 20, 18]\n",
        "\n",
        "media, mediana, moda = calcular_estadisticas(numeros)\n",
        "\n",
        "print(f\"Media: {media}\")\n",
        "print(f\"Mediana: {mediana}\")\n",
        "print(f\"Moda: {moda}\")"
      ],
      "metadata": {
        "id": "EZ-PV995lm7_",
        "colab": {
          "base_uri": "https://localhost:8080/"
        },
        "outputId": "f01f85af-fb45-43fc-84e2-e7e0b5559e68"
      },
      "execution_count": 15,
      "outputs": [
        {
          "output_type": "stream",
          "name": "stdout",
          "text": [
            "Media: 5.916666666666667\n",
            "Mediana: 4.0\n",
            "Moda: [4]\n"
          ]
        }
      ]
    },
    {
      "cell_type": "markdown",
      "source": [
        "####**Punto 5**"
      ],
      "metadata": {
        "id": "FrFt3q5jlnjW"
      }
    },
    {
      "cell_type": "code",
      "source": [
        "def calcular_total(precios, cantidades):\n",
        "    total = sum(precio * cantidad for precio, cantidad in zip(precios, cantidades))\n",
        "\n",
        "    if total > 100:\n",
        "        total *= 0.9\n",
        "\n",
        "    return total\n",
        "\n",
        "precios = [10, 15, 8, 20, 49, 33]\n",
        "cantidades = [2, 3, 1, 5, 2, 3]\n",
        "\n",
        "total_a_pagar = calcular_total(precios, cantidades)\n",
        "\n",
        "print(f\"Total a pagar: ${total_a_pagar:.2f}\")"
      ],
      "metadata": {
        "id": "rZVzg83plqBf",
        "colab": {
          "base_uri": "https://localhost:8080/"
        },
        "outputId": "be11f515-86f8-49e8-bbce-38ff69a225b1"
      },
      "execution_count": 16,
      "outputs": [
        {
          "output_type": "stream",
          "name": "stdout",
          "text": [
            "Total a pagar: $333.00\n"
          ]
        }
      ]
    },
    {
      "cell_type": "markdown",
      "source": [
        "####**Punto 6**"
      ],
      "metadata": {
        "id": "hXr-1g9HlqfF"
      }
    },
    {
      "cell_type": "code",
      "source": [
        "def actualizar_inventario(inventario, vendidos):\n",
        "    inventario_actualizado = [producto for producto in inventario if producto not in vendidos]\n",
        "    return inventario_actualizado\n",
        "\n",
        "inventario = [\"manzanas\", \"bananas\", \"peras\", \"naranjas\", \"uvas\", \"sandías\"]\n",
        "\n",
        "vendidos = [\"bananas\", \"naranjas\", \"uvas\"]\n",
        "\n",
        "inventario_final = actualizar_inventario(inventario, vendidos)\n",
        "\n",
        "print(\"Inventario actualizado:\", inventario_final)"
      ],
      "metadata": {
        "id": "MifHAvf9lr9R",
        "colab": {
          "base_uri": "https://localhost:8080/"
        },
        "outputId": "8b0f2fb0-8057-46a5-99db-50e43b420090"
      },
      "execution_count": 17,
      "outputs": [
        {
          "output_type": "stream",
          "name": "stdout",
          "text": [
            "Inventario actualizado: ['manzanas', 'peras', 'sandías']\n"
          ]
        }
      ]
    },
    {
      "cell_type": "markdown",
      "source": [
        "####**Punto 7**"
      ],
      "metadata": {
        "id": "aNI1RE-4lsR-"
      }
    },
    {
      "cell_type": "code",
      "source": [
        "def clasificar_temperaturas(temperaturas):\n",
        "    arriba_30 = sum(1 for t in temperaturas if t > 30)\n",
        "    entre_20_y_30 = sum(1 for t in temperaturas if 20 <= t <= 30)\n",
        "    debajo_20 = sum(1 for t in temperaturas if t < 20)\n",
        "\n",
        "    return arriba_30, entre_20_y_30, debajo_20\n",
        "\n",
        "temperaturas = [15, 22, 31, 18, 29, 35, 20, 25, 27, 33, 19, 21, 30, 28, 17, 32]\n",
        "\n",
        "dias_arriba_30, dias_entre_20_y_30, dias_debajo_20 = clasificar_temperaturas(temperaturas)\n",
        "\n",
        "print(f\"Días con temperatura por encima de 30°C: {dias_arriba_30}\")\n",
        "print(f\"Días con temperatura entre 20°C y 30°C: {dias_entre_20_y_30}\")\n",
        "print(f\"Días con temperatura por debajo de 20°C: {dias_debajo_20}\")"
      ],
      "metadata": {
        "id": "B9De7ztdlwMs",
        "colab": {
          "base_uri": "https://localhost:8080/"
        },
        "outputId": "d178c1b3-992d-4aee-ba12-3d3bf2be122b"
      },
      "execution_count": 18,
      "outputs": [
        {
          "output_type": "stream",
          "name": "stdout",
          "text": [
            "Días con temperatura por encima de 30°C: 4\n",
            "Días con temperatura entre 20°C y 30°C: 8\n",
            "Días con temperatura por debajo de 20°C: 4\n"
          ]
        }
      ]
    },
    {
      "cell_type": "markdown",
      "source": [
        "####**Punto 8**"
      ],
      "metadata": {
        "id": "oHDRVXskLrGv"
      }
    },
    {
      "cell_type": "code",
      "source": [
        "def calcular_calorias(alimentos, calorias):\n",
        "\n",
        "  if len(alimentos) != len(calorias):\n",
        "    raise ValueError(\"Error:la lista de alimentos y la lista de calorias deben tener la misma longitud.\")\n",
        "\n",
        "  total_calorias = sum(calorias)\n",
        "\n",
        "  if total_calorias > 2000:\n",
        "    return f\"Has consumido un total de {total_calorias} calorias, superando las 2000 calorias diarias recomendadas.\"\n",
        "  else:\n",
        "    return f\"Has consumido un total de {total_calorias} calorias, estas dentro de lo recomendado\"\n",
        "\n",
        "alimentos = input(\"Ingresa los nombres de los alimentos consumidos, separados con comas: \").split(\",\")\n",
        "calorias = list(map(int, input(\"Ingresa las calorias correspondients a cada alimento, separadas por comas: \").split(\",\")))\n",
        "\n",
        "mensaje = calcular_calorias(alimentos, calorias)\n",
        "print(mensaje)"
      ],
      "metadata": {
        "colab": {
          "base_uri": "https://localhost:8080/"
        },
        "id": "Yo_mArDRLy_O",
        "outputId": "b73c007c-eb4f-4737-b7c2-939b83df2fab"
      },
      "execution_count": 19,
      "outputs": [
        {
          "output_type": "stream",
          "name": "stdout",
          "text": [
            "Ingresa los nombres de los alimentos consumidos, separados con comas: coco, manzana, jugo\n",
            "Ingresa las calorias correspondients a cada alimento, separadas por comas: 1000, 800, 60\n",
            "Has consumido un total de 1860 calorias, estas dentro de lo recomendado\n"
          ]
        }
      ]
    },
    {
      "cell_type": "markdown",
      "source": [
        "####**Punto 9**"
      ],
      "metadata": {
        "id": "-ON-p0pOaiR-"
      }
    },
    {
      "cell_type": "code",
      "source": [
        "def promedio_ventas_mensuales(ventas):\n",
        "\n",
        "    if len(ventas) != 12:\n",
        "        raise ValueError(\"Error: El número de ventas debe ser exactamente de 12 valores\")\n",
        "\n",
        "    promedio = sum(ventas) / len(ventas)\n",
        "    meses_sobre_promedio = sum(1 for venta in ventas if venta > promedio)\n",
        "\n",
        "    return promedio, meses_sobre_promedio\n",
        "\n",
        "ventas = list(map(float, input(\"Ingresa 12 ventas, separadas por comas: \").split(',')))\n",
        "\n",
        "try:\n",
        "\n",
        "    promedio, meses_sobre_promedio = promedio_ventas_mensuales(ventas)\n",
        "\n",
        "    print(f\"Promedio de ventas mensuales: {promedio:.2f}\")\n",
        "    print(f\"Meses con ventas por encima del promedio: {meses_sobre_promedio}\")\n",
        "\n",
        "except ValueError as e:\n",
        "    print(f\"Error: {e}\")"
      ],
      "metadata": {
        "colab": {
          "base_uri": "https://localhost:8080/"
        },
        "id": "CZTZl5uUzR-4",
        "outputId": "b2defb68-e8e9-49bf-b7cf-df2419b9fd1f"
      },
      "execution_count": 21,
      "outputs": [
        {
          "output_type": "stream",
          "name": "stdout",
          "text": [
            "Ingresa 12 ventas, separadas por comas: 400, 800, 499, 573, 53, 2739, 273, 284, 75, 25, 75, 89\n",
            "Promedio de ventas mensuales: 490.42\n",
            "Meses con ventas por encima del promedio: 4\n"
          ]
        }
      ]
    },
    {
      "cell_type": "markdown",
      "source": [
        "####**Punto 10**"
      ],
      "metadata": {
        "id": "DgfTgz4L3yit"
      }
    },
    {
      "cell_type": "code",
      "source": [
        "def sistema_descuento_tienda():\n",
        "\n",
        "    compra = float(input(\"Ingresa el total de tu compra: \"))\n",
        "\n",
        "\n",
        "    if compra < 50:\n",
        "        print(\"No aplica descuento.\")\n",
        "\n",
        "    elif 50 <= compra <= 100:\n",
        "        descuento = compra * 0.05\n",
        "        print(f\"Su descuento es de: {descuento:.2f}\")\n",
        "\n",
        "    elif 100 < compra < 200:\n",
        "        descuento = compra * 0.10\n",
        "        print(f\"Su descuento es de: {descuento:.2f}\")\n",
        "\n",
        "    elif compra >= 200:\n",
        "        descuento = compra * 0.15\n",
        "        print(f\"Su descuento es de: {descuento:.2f}\")\n",
        "\n",
        "    total_cuenta = compra - descuento\n",
        "    print(f\"El total de su cuenta es de: {total_cuenta:.2f}\")\n",
        "\n",
        "sistema_descuento_tienda()\n",
        "\n"
      ],
      "metadata": {
        "colab": {
          "base_uri": "https://localhost:8080/"
        },
        "id": "V2B2j6lvKhnL",
        "outputId": "a3aefecf-5e08-4aed-dc85-484c9735aa81"
      },
      "execution_count": null,
      "outputs": [
        {
          "output_type": "stream",
          "name": "stdout",
          "text": [
            "Ingresa el total de tu compra: 400\n",
            "Su descuento es de: 60.00\n",
            "El total de su cuenta es de: 340.00\n"
          ]
        }
      ]
    },
    {
      "cell_type": "markdown",
      "source": [
        "####**Punto 11**"
      ],
      "metadata": {
        "id": "P1dwNV20OsK5"
      }
    },
    {
      "cell_type": "code",
      "source": [
        "def registro_pacientes():\n",
        "\n",
        "    n = int(input(\"¿Cuántos pacientes desea registrar? \"))\n",
        "    nombres = []\n",
        "    edades = []\n",
        "\n",
        "    for i in range(n):\n",
        "        nombre = input(f\"Ingrese el nombre del paciente {i + 1}: \")\n",
        "        edad = int(input(f\"Ingrese la edad de {nombre}: \"))\n",
        "        nombres.append(nombre)\n",
        "        edades.append(edad)\n",
        "\n",
        "    pacientes_prioritarios = []\n",
        "    for i in range(len(edades)):\n",
        "        if edades[i] > 60:\n",
        "            pacientes_prioritarios.append(f\"{nombres[i]} \")\n",
        "\n",
        "    if pacientes_prioritarios:\n",
        "        print(\"Pacientes que requieren atención prioritaria:\")\n",
        "        for paciente in pacientes_prioritarios:\n",
        "            print(paciente)\n",
        "    else:\n",
        "        print(\"No hay pacientes que necesiten atención prioritaria.\")\n",
        "\n",
        "registro_pacientes()\n"
      ],
      "metadata": {
        "colab": {
          "base_uri": "https://localhost:8080/"
        },
        "id": "E4e-u3yjWkdN",
        "outputId": "dfe17a30-2e0b-4e6d-b4b2-b465415cda70"
      },
      "execution_count": null,
      "outputs": [
        {
          "output_type": "stream",
          "name": "stdout",
          "text": [
            "¿Cuántos pacientes desea registrar? 3\n",
            "Ingrese el nombre del paciente 1: Emanuel\n",
            "Ingrese la edad de Emanuel: 70\n",
            "Ingrese el nombre del paciente 2: Jose\n",
            "Ingrese la edad de Jose: 67\n",
            "Ingrese el nombre del paciente 3: Juanes \n",
            "Ingrese la edad de Juanes : 50\n",
            "Pacientes que requieren atención prioritaria:\n",
            "Emanuel \n",
            "Jose \n"
          ]
        }
      ]
    },
    {
      "cell_type": "markdown",
      "source": [
        "####**Punto 12**"
      ],
      "metadata": {
        "id": "Dr5BlMmjk_3P"
      }
    },
    {
      "cell_type": "code",
      "source": [
        "def calcular_gastos(gastos):\n",
        "\n",
        "    total = sum(gastos.values())\n",
        "\n",
        "    categoria_max = max(gastos, key=gastos.get)\n",
        "    gasto_max = gastos[categoria_max]\n",
        "\n",
        "    print(f\"Total de gastos mensuales: ${total:.2f}\")\n",
        "    print(f\"Mayor gasto: {categoria_max} con ${gasto_max:.2f}\")\n",
        "\n",
        "def main():\n",
        "    print(\"Cálculo de gastos mensuales\")\n",
        "    gastos = {}\n",
        "\n",
        "    while True:\n",
        "        categoria = input(\"Ingrese la categoría del gasto: \").strip()\n",
        "        if categoria.lower() == 'fin':\n",
        "            break\n",
        "\n",
        "        try:\n",
        "            gasto = float(input(f\"Ingrese el gasto en {categoria}: \").strip())\n",
        "            if gasto < 0:\n",
        "                print(\"El gasto no puede ser negativo. Intente de nuevo.\")\n",
        "                continue\n",
        "            gastos[categoria] = gasto\n",
        "        except ValueError:\n",
        "            print(\"Entrada inválida. Ingrese un número.\")\n",
        "\n",
        "    if gastos:\n",
        "        calcular_gastos(gastos)\n",
        "    else:\n",
        "        print(\"No se ingresaron gastos.\")\n",
        "\n",
        "if __name__ == \"__main__\":\n",
        "    main()"
      ],
      "metadata": {
        "id": "FI0uidhRlAVr",
        "colab": {
          "base_uri": "https://localhost:8080/"
        },
        "outputId": "893556f6-1a92-4069-830f-b81ba1cf86f4"
      },
      "execution_count": null,
      "outputs": [
        {
          "output_type": "stream",
          "name": "stdout",
          "text": [
            "Cálculo de gastos mensuales\n",
            "Ingrese la categoría del gasto: Comida\n",
            "Ingrese el gasto en Comida: 800\n",
            "Ingrese la categoría del gasto: viaje\n",
            "Ingrese el gasto en viaje: 400\n",
            "Ingrese la categoría del gasto: 500\n",
            "Ingrese el gasto en 500: 800\n",
            "Ingrese la categoría del gasto: casa\n",
            "Ingrese el gasto en casa: 200\n",
            "Ingrese la categoría del gasto: fin\n",
            "Total de gastos mensuales: $2200.00\n",
            "Mayor gasto: Comida con $800.00\n"
          ]
        }
      ]
    },
    {
      "cell_type": "markdown",
      "source": [
        "####**Punto 13**"
      ],
      "metadata": {
        "id": "ODxiIL3zlXl_"
      }
    },
    {
      "cell_type": "code",
      "source": [
        "def personas_no_asistieron(registradas, asistieron):\n",
        "\n",
        "    no_asistieron = []\n",
        "    for persona in registradas:\n",
        "        if persona not in asistieron:\n",
        "            no_asistieron.append(persona)\n",
        "    return no_asistieron\n",
        "\n",
        "if __name__ == \"__main__\":\n",
        "    print(\"Ingrese los nombres separados por coma.\")\n",
        "    registradas = input(\"Personas registradas: \").split(',')  # Divide los nombres ingresados\n",
        "    asistieron = input(\"Personas que asistieron: \").split(',')\n",
        "\n",
        "    registradas = [nombre.strip() for nombre in registradas]\n",
        "    asistieron = [nombre.strip() for nombre in asistieron]\n",
        "\n",
        "    resultado = personas_no_asistieron(registradas, asistieron)\n",
        "\n",
        "    if len(resultado) > 0:\n",
        "        print(\"Personas que no asistieron:\")\n",
        "        for persona in resultado:\n",
        "            print(persona)\n",
        "    else:\n",
        "        print(\"Todos los registrados asistieron al evento.\")"
      ],
      "metadata": {
        "id": "j4HhOl93lbhz",
        "colab": {
          "base_uri": "https://localhost:8080/"
        },
        "outputId": "27aa0ea7-a84b-4e18-fe54-a5939ecaf91c"
      },
      "execution_count": null,
      "outputs": [
        {
          "output_type": "stream",
          "name": "stdout",
          "text": [
            "Ingrese los nombres separados por coma.\n",
            "Personas registradas: Juan, Jose, Tomas, Emanuel, Jazmin\n",
            "Personas que asistieron: Emanuel, Jose, Tomas\n",
            "Personas que no asistieron:\n",
            "Juan\n",
            "Jazmin\n"
          ]
        }
      ]
    },
    {
      "cell_type": "markdown",
      "source": [
        "####**Punto 14**"
      ],
      "metadata": {
        "id": "UzFrAcRClZgp"
      }
    },
    {
      "cell_type": "code",
      "source": [
        "def recomendacion_ejercicio(minutos_semanales):\n",
        "\n",
        "    if len(minutos_semanales) != 7:\n",
        "        return \"Debes ingresar los minutos de los 7 días de la semana.\"\n",
        "\n",
        "    promedio_diario = sum(minutos_semanales) / 7\n",
        "\n",
        "    if promedio_diario > 60:\n",
        "        return \"Excelente, estás en forma.\"\n",
        "    elif 30 <= promedio_diario <= 60:\n",
        "        return \"Buen trabajo, pero puedes mejorar.\"\n",
        "    else:\n",
        "        return \"Debes hacer más ejercicio.\"\n",
        "\n",
        "if __name__ == \"__main__\":\n",
        "    print(\"Recomendación de ejercicio diario\")\n",
        "    minutos_semanales = []\n",
        "\n",
        "    for i in range(7):\n",
        "        while True:\n",
        "            try:\n",
        "                minutos = float(input(f\"Ingrese los minutos de ejercicio del día {i + 1}: \").strip())\n",
        "                if minutos < 0:\n",
        "                    print(\"Los minutos no pueden ser negativos. Intente de nuevo.\")\n",
        "                    continue\n",
        "                minutos_semanales.append(minutos)\n",
        "                break\n",
        "            except ValueError:\n",
        "                print(\"Entrada inválida. Ingrese un número.\")\n",
        "\n",
        "    print(recomendacion_ejercicio(minutos_semanales))\n"
      ],
      "metadata": {
        "id": "F8eiX3C_laNl",
        "colab": {
          "base_uri": "https://localhost:8080/"
        },
        "outputId": "3f87c704-0a48-4604-e016-5435313c4cdb"
      },
      "execution_count": null,
      "outputs": [
        {
          "output_type": "stream",
          "name": "stdout",
          "text": [
            "Recomendación de ejercicio diario\n",
            "Ingrese los minutos de ejercicio del día 1: 65\n",
            "Ingrese los minutos de ejercicio del día 2: 20\n",
            "Ingrese los minutos de ejercicio del día 3: 80\n",
            "Ingrese los minutos de ejercicio del día 4: 50\n",
            "Ingrese los minutos de ejercicio del día 5: 100\n",
            "Ingrese los minutos de ejercicio del día 6: 10\n",
            "Ingrese los minutos de ejercicio del día 7: 36\n",
            "Buen trabajo, pero puedes mejorar.\n"
          ]
        }
      ]
    }
  ]
}