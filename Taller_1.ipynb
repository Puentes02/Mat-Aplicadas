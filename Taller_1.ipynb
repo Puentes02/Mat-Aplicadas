{
  "nbformat": 4,
  "nbformat_minor": 0,
  "metadata": {
    "colab": {
      "provenance": [],
      "include_colab_link": true
    },
    "kernelspec": {
      "name": "python3",
      "display_name": "Python 3"
    },
    "language_info": {
      "name": "python"
    }
  },
  "cells": [
    {
      "cell_type": "markdown",
      "metadata": {
        "id": "view-in-github",
        "colab_type": "text"
      },
      "source": [
        "<a href=\"https://colab.research.google.com/github/Puentes02/Mat-Aplicadas/blob/main/Taller_1.ipynb\" target=\"_parent\"><img src=\"https://colab.research.google.com/assets/colab-badge.svg\" alt=\"Open In Colab\"/></a>"
      ]
    },
    {
      "cell_type": "markdown",
      "source": [
        "##**Taller #1**"
      ],
      "metadata": {
        "id": "CJqR9pP6ooZF"
      }
    },
    {
      "cell_type": "markdown",
      "source": [
        "###**Nombres: Emanuel Puentes, Juan Esteban Martinez, Jose Alejandro Morera**"
      ],
      "metadata": {
        "id": "6hcCz1B_pbip"
      }
    },
    {
      "cell_type": "markdown",
      "source": [
        "###Punto 1\n",
        "- 1) Area lateral de un cilindro $A=2πrg$\n",
        "-Despeja r  $r=\\frac{A}{2πg}$\n",
        "-2) Volumen del cono $V=\\frac {A_B ⋅ h}{3}$\n",
        "-Despejar h $h= \\frac{3V}{A_B}$\n",
        "-3) Volumen de la esfera $V= \\frac{4}{3}⋅π⋅r^3$\n",
        "-Despejar r $r=\\frac{\\sqrt[3]{26Vπ^2}}{2π}$\n",
        "-4) Area del trapecio $A=\\frac{B+b}{2}\\cdot h$\n",
        "-Despeja h $h=\\frac{2A}{B+b}$\n",
        "-5) Intensidad electrica $I=\\frac{q}{t}$\n",
        "-Despejar t $t=\\frac{q}{I}$\n",
        "-6) Ley de Ohm $I\\frac{V}{R}$\n",
        "-Despeja R $R=\\frac{V}{I}$\n",
        "-7)  Energia electrica $E=\\frac{V^2}{R}⋅t$\n",
        "-Despejar t $t=\\frac{ER}{V^2}$\n",
        "-8) Resistencias en paralelo $\\frac{1}{R}=\\frac{1}{R_1}+\\frac{1}{R_2}$\n",
        "-Despejar R $R=\\frac{R_1R_2}{R_1+R_2}$\n",
        "-9) Ecuacion de gases perectos $\\frac{P_0V_0}{T_0}=\\frac{P_fV_f}{T_f}$\n",
        "- Despejar $P_f$ $P_f=\\frac{P_0V_0T_f}{T_0V_f}$\n",
        "-10) Intensidad electrica $I=\\frac{V_A-V_B}{R}$\n",
        "- Despejar $V_B$ $VB= \\frac {IR}{V_A}$"
      ],
      "metadata": {
        "id": "kb0v2tvjoogs"
      }
    },
    {
      "cell_type": "markdown",
      "source": [
        "###Punto 2"
      ],
      "metadata": {
        "id": "wLc8Ha8noopL"
      }
    },
    {
      "cell_type": "code",
      "source": [
        "(3 * (-5 + 10 + (-5)) - 2 * ((-2) + (-4) + 10))**2"
      ],
      "metadata": {
        "colab": {
          "base_uri": "https://localhost:8080/"
        },
        "id": "6i2IGYAjrs4b",
        "outputId": "5e99195f-7618-450a-a1e4-8fa6292a2d31"
      },
      "execution_count": null,
      "outputs": [
        {
          "output_type": "execute_result",
          "data": {
            "text/plain": [
              "64"
            ]
          },
          "metadata": {},
          "execution_count": 9
        }
      ]
    },
    {
      "cell_type": "code",
      "source": [
        "45 + (3 * (2 + 8) - 8 / 4) + 10 - 83"
      ],
      "metadata": {
        "colab": {
          "base_uri": "https://localhost:8080/"
        },
        "id": "AtyU3YhcvF09",
        "outputId": "a1e023fe-3deb-4201-df33-13c5d1a7b37f"
      },
      "execution_count": null,
      "outputs": [
        {
          "output_type": "execute_result",
          "data": {
            "text/plain": [
              "0.0"
            ]
          },
          "metadata": {},
          "execution_count": 13
        }
      ]
    },
    {
      "cell_type": "code",
      "source": [
        "((- 4 + 7) * 2 - 10) * (- 4)- 7 - 3"
      ],
      "metadata": {
        "colab": {
          "base_uri": "https://localhost:8080/"
        },
        "id": "adpX7rKdvmsr",
        "outputId": "b5993767-657c-4614-e6f1-9bbb1cd8a0b2"
      },
      "execution_count": null,
      "outputs": [
        {
          "output_type": "execute_result",
          "data": {
            "text/plain": [
              "6"
            ]
          },
          "metadata": {},
          "execution_count": 33
        }
      ]
    },
    {
      "cell_type": "code",
      "source": [],
      "metadata": {
        "id": "FTgkuzXL1bHe"
      },
      "execution_count": null,
      "outputs": []
    },
    {
      "cell_type": "markdown",
      "source": [
        "###Punto 3"
      ],
      "metadata": {
        "id": "Tii-4UgPoo8o"
      }
    },
    {
      "cell_type": "markdown",
      "source": [
        "A) $\\frac{1}{5}[(\\frac{1}{2})^2+(\\frac{3}{4})^2]+\\frac{10}{25}[(\\frac{1}{2})^2+(\\frac{3}{4})^2]+\\frac{8}{40}[(\\frac{1}{2})^2+(\\frac{3}{4})^2]$"
      ],
      "metadata": {
        "id": "addhXvSR_esJ"
      }
    },
    {
      "cell_type": "code",
      "source": [
        "1 / 5 * ((1 / 2)**2 + (3 / 4)**2) + 10 / 25 * ((1 / 2)**2 + (3 / 4)**2) + 8 / 40 * ((1 / 2)**2 +(3 / 4)**2 )"
      ],
      "metadata": {
        "colab": {
          "base_uri": "https://localhost:8080/"
        },
        "id": "5vIJ5uOI_LcL",
        "outputId": "a51be920-4c0a-47ed-d6c9-02253d5d5e37"
      },
      "execution_count": null,
      "outputs": [
        {
          "output_type": "execute_result",
          "data": {
            "text/plain": [
              "0.65"
            ]
          },
          "metadata": {},
          "execution_count": 1
        }
      ]
    },
    {
      "cell_type": "markdown",
      "source": [
        "B) $\\frac{9}{4}(\\frac{6}{8})^{-1}- \\frac{5}{2}(\\frac{25}{20})^{-1}  + \\frac{40}{8} (\\frac{20}{16})^{-1}$"
      ],
      "metadata": {
        "id": "rbstbbEu_f4t"
      }
    },
    {
      "cell_type": "code",
      "source": [
        "9 / 4 * (6 / 8)**-1 - 5 / 2 * (25 / 20)**-1 + 40 / 8 * (20 / 16)**-1"
      ],
      "metadata": {
        "colab": {
          "base_uri": "https://localhost:8080/"
        },
        "id": "Zqo7xuGD_QPQ",
        "outputId": "52754052-de2b-41ba-db41-c601e899d039"
      },
      "execution_count": null,
      "outputs": [
        {
          "output_type": "execute_result",
          "data": {
            "text/plain": [
              "5.0"
            ]
          },
          "metadata": {},
          "execution_count": 2
        }
      ]
    },
    {
      "cell_type": "markdown",
      "source": [
        "###Punto 4\n"
      ],
      "metadata": {
        "id": "9T6o9d_lopBP"
      }
    },
    {
      "cell_type": "code",
      "source": [
        "Nombre = str(input(\"Ingrese su nombre: \"))\n",
        "Peso = float(input(\"Ingrese su peso en Kg: \"))\n",
        "Altura = float(input(\"Ingrese su altura en metros: \"))\n",
        "imc = Peso / (Altura)**2\n",
        "\n",
        "print(\"Su IMC es:\", imc)"
      ],
      "metadata": {
        "id": "ZM-gbhpx0Clm",
        "colab": {
          "base_uri": "https://localhost:8080/"
        },
        "outputId": "60a87a6b-1d24-4734-c009-0bf0f783d70b"
      },
      "execution_count": null,
      "outputs": [
        {
          "output_type": "stream",
          "name": "stdout",
          "text": [
            "Ingrese su nombre: Emanuel\n",
            "Ingrese su peso en Kg: 72\n",
            "Ingrese su altura en metros: 1.78\n",
            "Su IMC es: 22.724403484408533\n"
          ]
        }
      ]
    },
    {
      "cell_type": "markdown",
      "source": [
        "###Punto 5"
      ],
      "metadata": {
        "id": "ZkKiSOKNopxd"
      }
    },
    {
      "cell_type": "code",
      "source": [
        "\n",
        "num1 = float(input(\"Ingrese el primer número: \"))\n",
        "num2 = float(input(\"Ingrese el segundo número: \"))\n",
        "\n",
        "\n",
        "suma = num1 + num2\n",
        "resta = num1 - num2\n",
        "producto = num1 * num2\n",
        "\n",
        "\n",
        "if num2 != 0:\n",
        "    cociente = num1 / num2\n",
        "else:\n",
        "    cociente = \"No se puede dividir por cero\"\n",
        "\n",
        "\n",
        "print(f\"Suma: {suma}\")\n",
        "print(f\"Resta: {resta}\")\n",
        "print(f\"Producto: {producto}\")\n",
        "print(f\"Cociente: {cociente}\")"
      ],
      "metadata": {
        "id": "rgJV_xg0J_il",
        "colab": {
          "base_uri": "https://localhost:8080/"
        },
        "outputId": "4a9b08a3-1217-4079-c40c-aedb8e31ca39"
      },
      "execution_count": null,
      "outputs": [
        {
          "output_type": "stream",
          "name": "stdout",
          "text": [
            "Ingrese el primer número: 2\n",
            "Ingrese el segundo número: 5\n",
            "Suma: 7.0\n",
            "Resta: -3.0\n",
            "Producto: 10.0\n",
            "Cociente: 0.4\n"
          ]
        }
      ]
    },
    {
      "cell_type": "markdown",
      "source": [
        "###Punto 6"
      ],
      "metadata": {
        "id": "IfWQALLroqBy"
      }
    },
    {
      "cell_type": "code",
      "source": [
        "precios_petroleo_barril = [74.74, 75.02, 75.30, 75.58, 75.86, 76.14, 76.42]\n",
        "\n",
        "precio_cocacola_litro = 1.13\n",
        "\n",
        "litros_por_barril= 159\n",
        "\n",
        "precio_cocacola_barril = precio_cocacola_litro * litros_por_barril\n",
        "print(\"El precio de la cocacola por barril es de:\", precio_cocacola_barril)\n",
        "\n",
        "precio_promedio_petroleo_barril = sum(precios_petroleo_barril) / len(precios_petroleo_barril)\n",
        "print(\"El precio promedio del petroleo por barril es de:\", precio_promedio_petroleo_barril)\n",
        "\n",
        "relacion_proporcional = []\n",
        "for precio_petroleo in precios_petroleo_barril:\n",
        "    proporcion = round(precio_petroleo / precio_cocacola_barril, 2)\n",
        "    relacion_proporcional.append(proporcion)\n",
        "print(\"Relación proporcional entre los precios de un barril de petróleo y Coca-Cola:\")\n",
        "for i, proporcion in enumerate(relacion_proporcional):\n",
        "    print(f\"Día {i + 1}: {precios_petroleo_barril[i]} USD petróleo ≈ {proporcion} veces el precio de Coca-Cola\")\n",
        "\n",
        "conclusiones = \"A pesar de que el petróleo es una materia prima mas valiosas, el precio de productos como la Coca-Cola, con costos adicionales como: distribución y marketing, es significativamente más alto por barril.\"\n",
        "print (\"En conclusion: \", conclusiones)\n"
      ],
      "metadata": {
        "colab": {
          "base_uri": "https://localhost:8080/"
        },
        "id": "s_Ku01IRgVu4",
        "outputId": "c3e10c0e-8ac5-42f8-dbbd-8d29373c4ede"
      },
      "execution_count": 23,
      "outputs": [
        {
          "output_type": "stream",
          "name": "stdout",
          "text": [
            "El precio de la cocacola por barril es de: 179.67\n",
            "El precio promedio del petroleo por barril es de: 75.58\n",
            "Relación proporcional entre los precios de un barril de petróleo y Coca-Cola:\n",
            "Día 1: 74.74 USD petróleo ≈ 0.42 veces el precio de Coca-Cola\n",
            "Día 2: 75.02 USD petróleo ≈ 0.42 veces el precio de Coca-Cola\n",
            "Día 3: 75.3 USD petróleo ≈ 0.42 veces el precio de Coca-Cola\n",
            "Día 4: 75.58 USD petróleo ≈ 0.42 veces el precio de Coca-Cola\n",
            "Día 5: 75.86 USD petróleo ≈ 0.42 veces el precio de Coca-Cola\n",
            "Día 6: 76.14 USD petróleo ≈ 0.42 veces el precio de Coca-Cola\n",
            "Día 7: 76.42 USD petróleo ≈ 0.43 veces el precio de Coca-Cola\n",
            "En conclusion:  A pesar de que el petróleo es una materia prima mas valiosas, el precio de productos como la Coca-Cola, con costos adicionales como: distribución y marketing, es significativamente más alto por barril.\n"
          ]
        }
      ]
    }
  ]
}