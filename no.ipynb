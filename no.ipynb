{
  "nbformat": 4,
  "nbformat_minor": 0,
  "metadata": {
    "colab": {
      "provenance": [],
      "authorship_tag": "ABX9TyOTHcV4sjSIzp8st5r63mpf",
      "include_colab_link": true
    },
    "kernelspec": {
      "name": "python3",
      "display_name": "Python 3"
    },
    "language_info": {
      "name": "python"
    }
  },
  "cells": [
    {
      "cell_type": "markdown",
      "metadata": {
        "id": "view-in-github",
        "colab_type": "text"
      },
      "source": [
        "<a href=\"https://colab.research.google.com/github/Puentes02/Mat-Aplicadas/blob/main/NO.ipynb\" target=\"_parent\"><img src=\"https://colab.research.google.com/assets/colab-badge.svg\" alt=\"Open In Colab\"/></a>"
      ]
    },
    {
      "cell_type": "markdown",
      "source": [
        "###**Taller #1**\n"
      ],
      "metadata": {
        "id": "4JVwzAMHm4ez"
      }
    },
    {
      "cell_type": "markdown",
      "source": [
        "###Punto 1\n"
      ],
      "metadata": {
        "id": "AmByfdWtnH5M"
      }
    },
    {
      "cell_type": "markdown",
      "source": [
        "###Punto 2"
      ],
      "metadata": {
        "id": "9S6zQMxfnMem"
      }
    },
    {
      "cell_type": "markdown",
      "source": [
        "###Punto 3"
      ],
      "metadata": {
        "id": "5M9Qt4QznPFw"
      }
    },
    {
      "cell_type": "markdown",
      "source": [
        "###Punto 4"
      ],
      "metadata": {
        "id": "ORv2MtI7nSTf"
      }
    },
    {
      "cell_type": "markdown",
      "source": [
        "###Punto 5"
      ],
      "metadata": {
        "id": "XfDD0cnjnU5R"
      }
    },
    {
      "cell_type": "markdown",
      "source": [
        "###Punto 6"
      ],
      "metadata": {
        "id": "ddejSKhInaEf"
      }
    }
  ]
}
